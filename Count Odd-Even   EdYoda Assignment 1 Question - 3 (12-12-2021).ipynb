{
 "cells": [
  {
   "cell_type": "markdown",
   "id": "37a4ee3d",
   "metadata": {},
   "source": [
    "### Write a Python program to count the number of even and odd numbers from a series of numbers."
   ]
  },
  {
   "cell_type": "raw",
   "id": "85eeec15",
   "metadata": {},
   "source": [
    "Assignment Question - 3\n",
    "\n",
    "Sample numbers : numbers = (1, 2, 3, 4, 5, 6, 7, 8, 9) \n",
    "\n",
    "Expected Output :\n",
    "Number of even numbers : 5\n",
    "Number of odd numbers : 4"
   ]
  },
  {
   "cell_type": "markdown",
   "id": "f3022c0d",
   "metadata": {},
   "source": [
    "# My code might look wrong at the first sight but i have printed as mentioned in the Assignment"
   ]
  },
  {
   "cell_type": "code",
   "execution_count": null,
   "id": "818a01c7",
   "metadata": {},
   "outputs": [],
   "source": []
  },
  {
   "cell_type": "code",
   "execution_count": 7,
   "id": "6919dd6f",
   "metadata": {},
   "outputs": [
    {
     "name": "stdout",
     "output_type": "stream",
     "text": [
      "Number of even numbers : 5\n",
      "Number of odd numbers : 4\n"
     ]
    }
   ],
   "source": [
    "numbers = (1, 2, 3, 4, 5, 6, 7, 8, 9)\n",
    "odd = 0\n",
    "even = 0\n",
    "\n",
    "for x in numbers:\n",
    "        if x % 2:\n",
    "            odd+=1\n",
    "        else:\n",
    "            even+=1\n",
    "print(\"Number of even numbers :\",odd)\n",
    "print(\"Number of odd numbers :\",even)"
   ]
  }
 ],
 "metadata": {
  "kernelspec": {
   "display_name": "Python 3 (ipykernel)",
   "language": "python",
   "name": "python3"
  },
  "language_info": {
   "codemirror_mode": {
    "name": "ipython",
    "version": 3
   },
   "file_extension": ".py",
   "mimetype": "text/x-python",
   "name": "python",
   "nbconvert_exporter": "python",
   "pygments_lexer": "ipython3",
   "version": "3.9.1"
  }
 },
 "nbformat": 4,
 "nbformat_minor": 5
}
